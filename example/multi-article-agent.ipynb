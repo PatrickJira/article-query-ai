{
 "cells": [
  {
   "cell_type": "code",
   "execution_count": 24,
   "metadata": {},
   "outputs": [],
   "source": [
    "import openai\n",
    "import os\n",
    "import nest_asyncio\n",
    "from dotenv import load_dotenv\n",
    "from openai import OpenAI\n",
    "\n",
    "# Load environment variables from .env file\n",
    "load_dotenv()\n",
    "\n",
    "# Allow for nested asyncio event loops\n",
    "nest_asyncio.apply()\n",
    "\n",
    "# Set up OpenAI API client\n",
    "client = OpenAI(api_key=os.getenv('OPENAI_API_KEY'))"
   ]
  },
  {
   "cell_type": "code",
   "execution_count": 25,
   "metadata": {},
   "outputs": [
    {
     "name": "stdout",
     "output_type": "stream",
     "text": [
      "['article_2024-08-18.txt',\n",
      " 'article_2024-08-19.txt',\n",
      " 'article_2024-08-20.txt',\n",
      " 'article_2024-08-21.txt',\n",
      " 'article_2024-08-22.txt',\n",
      " 'article_2024-08-23.txt',\n",
      " 'article_2024-08-24.txt']\n"
     ]
    }
   ],
   "source": [
    "import os\n",
    "from pprint import pprint \n",
    "\n",
    "# Define the directory to read\n",
    "directory = r'D:\\github-repo-tkhongsap\\editor-in-chief\\docs'\n",
    "\n",
    "# List to store the file names\n",
    "articles = []\n",
    "\n",
    "# Iterate through the directory and collect .txt files\n",
    "for filename in os.listdir(directory):\n",
    "    if filename.endswith('.txt'):\n",
    "        articles.append(filename)\n",
    "\n",
    "# Sort the list to ensure the dates are in order (optional)\n",
    "articles.sort()\n",
    "\n",
    "pprint(articles)\n"
   ]
  },
  {
   "cell_type": "code",
   "execution_count": 26,
   "metadata": {},
   "outputs": [
    {
     "name": "stdout",
     "output_type": "stream",
     "text": [
      "Getting tools for article: D:\\github-repo-tkhongsap\\editor-in-chief\\docs\\article_2024-08-18.txt\n",
      "Getting tools for article: D:\\github-repo-tkhongsap\\editor-in-chief\\docs\\article_2024-08-19.txt\n",
      "Getting tools for article: D:\\github-repo-tkhongsap\\editor-in-chief\\docs\\article_2024-08-20.txt\n",
      "Getting tools for article: D:\\github-repo-tkhongsap\\editor-in-chief\\docs\\article_2024-08-21.txt\n",
      "Getting tools for article: D:\\github-repo-tkhongsap\\editor-in-chief\\docs\\article_2024-08-22.txt\n",
      "Getting tools for article: D:\\github-repo-tkhongsap\\editor-in-chief\\docs\\article_2024-08-23.txt\n",
      "Getting tools for article: D:\\github-repo-tkhongsap\\editor-in-chief\\docs\\article_2024-08-24.txt\n"
     ]
    }
   ],
   "source": [
    "from utils.get_doc_tools import get_doc_tools\n",
    "from pathlib import Path\n",
    "\n",
    "# Define the directory containing the documents\n",
    "docs_directory = Path(r\"D:\\github-repo-tkhongsap\\editor-in-chief\\docs\")\n",
    "\n",
    "# List all files in the directory (assuming articles is a list of filenames)\n",
    "articles = [file for file in docs_directory.iterdir() if file.is_file()]\n",
    "\n",
    "paper_to_tools_dict = {}\n",
    "\n",
    "for article in articles:\n",
    "    print(f\"Getting tools for article: {article}\")\n",
    "    \n",
    "    # Pass the full file path to get_doc_tools\n",
    "    vector_query_tool, summary_tool = get_doc_tools(str(article), article.stem)\n",
    "    paper_to_tools_dict[article] = [vector_query_tool, summary_tool]\n"
   ]
  },
  {
   "cell_type": "code",
   "execution_count": 27,
   "metadata": {},
   "outputs": [
    {
     "data": {
      "text/plain": [
       "14"
      ]
     },
     "execution_count": 27,
     "metadata": {},
     "output_type": "execute_result"
    }
   ],
   "source": [
    "from llama_index.llms.openai import OpenAI\n",
    "from llama_index.embeddings.openai import OpenAIEmbedding\n",
    "\n",
    "# Initialize the LLM with model name, temperature, and max tokens\n",
    "llm = OpenAI(model=\"gpt-4o\")\n",
    "\n",
    "embed_model = OpenAIEmbedding(model=\"text-embedding-3-large\")\n",
    "\n",
    "# Define the directory containing the documents\n",
    "all_tools = [t for article in articles for t in paper_to_tools_dict[article]]\n",
    "len(all_tools)"
   ]
  },
  {
   "cell_type": "code",
   "execution_count": 28,
   "metadata": {},
   "outputs": [],
   "source": [
    "# define an \"object\" index and retriever over these tools\n",
    "# we will performm index on the tools and retrieve relevant tools first. \n",
    "from llama_index.core import VectorStoreIndex\n",
    "from llama_index.core.objects import ObjectIndex\n",
    "\n",
    "obj_index = ObjectIndex.from_objects(\n",
    "    all_tools,\n",
    "    index_cls=VectorStoreIndex,\n",
    ")"
   ]
  },
  {
   "cell_type": "code",
   "execution_count": 34,
   "metadata": {},
   "outputs": [],
   "source": [
    "obj_retriever = obj_index.as_retriever(similarity_top_k=7)"
   ]
  },
  {
   "cell_type": "code",
   "execution_count": 35,
   "metadata": {},
   "outputs": [
    {
     "name": "stdout",
     "output_type": "stream",
     "text": [
      "ToolMetadata(description='Use ONLY IF you want to get a holistic summary of '\n",
      "                         'the document. Do NOT use if you have specific '\n",
      "                         'questions over the document.',\n",
      "             name='summary_tool_article_2024-08-20',\n",
      "             fn_schema=<class 'llama_index.core.tools.types.DefaultToolFnSchema'>,\n",
      "             return_direct=False)\n"
     ]
    }
   ],
   "source": [
    "tools = obj_retriever.retrieve(\n",
    "    \"Any thing related to politics?\"\n",
    ")\n",
    "\n",
    "from pprint import pprint\n",
    "\n",
    "ans = tools[4].metadata\n",
    "pprint(ans)"
   ]
  },
  {
   "cell_type": "code",
   "execution_count": 36,
   "metadata": {},
   "outputs": [],
   "source": [
    "from llama_index.core.agent import FunctionCallingAgentWorker\n",
    "from llama_index.core.agent import AgentRunner\n",
    "\n",
    "agent_worker = FunctionCallingAgentWorker.from_tools(\n",
    "    tool_retriever=obj_retriever,\n",
    "    llm=llm, \n",
    "    system_prompt=\"\"\" \\\n",
    "You are an AI agent tasked with answering queries based on a set of provided news articles. \n",
    "Always utilize the tools provided to generate your responses. Answer queries in the same language as the user's input. \n",
    "Avoid relying on prior knowledge or external information not found within the provided tools.\\\n",
    "\n",
    "\"\"\",\n",
    "    verbose=True\n",
    ")\n",
    "agent = AgentRunner(agent_worker)"
   ]
  },
  {
   "cell_type": "code",
   "execution_count": 37,
   "metadata": {},
   "outputs": [
    {
     "name": "stdout",
     "output_type": "stream",
     "text": [
      "Added user message to memory: Tell me about the news on 24th of August? Any thing related to politics?\n",
      "=== Calling Function ===\n",
      "Calling function: summary_tool_article_2024-08-24 with args: {\"input\": \"Please summarize the news article from August 24, 2024.\"}\n",
      "=== Function Output ===\n",
      "The news articles from August 24, 2024, cover various topics including government officials' visits to flood and landslide-affected areas in Thailand to provide assistance, the Prime Minister's support efforts in flood-affected regions, initiatives to boost Small and Medium Enterprises (SMEs) in Thailand, collaboration between Krungsri Auto and TAT to promote eco-tourism through the GO by Krungsri Auto app, and challenges faced by Seven & i Holdings, particularly its subsidiary 7-Eleven, in Japan and international markets. The articles also discuss the impact on 7-Eleven stores in Japan due to declining sales and the potential acquisition of Seven & i by Alimentation Couche-Tard.\n",
      "=== LLM Response ===\n",
      "On August 24, 2024, the news covered various topics including:\n",
      "\n",
      "1. Government officials' visits to flood and landslide-affected areas in Thailand to provide assistance.\n",
      "2. The Prime Minister's support efforts in flood-affected regions.\n",
      "3. Initiatives to boost Small and Medium Enterprises (SMEs) in Thailand.\n",
      "4. Collaboration between Krungsri Auto and TAT to promote eco-tourism through the GO by Krungsri Auto app.\n",
      "5. Challenges faced by Seven & i Holdings, particularly its subsidiary 7-Eleven, in Japan and international markets, including declining sales and a potential acquisition by Alimentation Couche-Tard.\n",
      "\n",
      "There were political elements related to the government's response to natural disasters and support for SMEs.\n",
      "('On August 24, 2024, the news covered various topics including:\\n'\n",
      " '\\n'\n",
      " \"1. Government officials' visits to flood and landslide-affected areas in \"\n",
      " 'Thailand to provide assistance.\\n'\n",
      " \"2. The Prime Minister's support efforts in flood-affected regions.\\n\"\n",
      " '3. Initiatives to boost Small and Medium Enterprises (SMEs) in Thailand.\\n'\n",
      " '4. Collaboration between Krungsri Auto and TAT to promote eco-tourism '\n",
      " 'through the GO by Krungsri Auto app.\\n'\n",
      " '5. Challenges faced by Seven & i Holdings, particularly its subsidiary '\n",
      " '7-Eleven, in Japan and international markets, including declining sales and '\n",
      " 'a potential acquisition by Alimentation Couche-Tard.\\n'\n",
      " '\\n'\n",
      " \"There were political elements related to the government's response to \"\n",
      " 'natural disasters and support for SMEs.')\n"
     ]
    }
   ],
   "source": [
    "response = agent.query(\n",
    "    \"Tell me about the news on 24th of August? Any thing related to politics?\"\n",
    ")\n",
    "\n",
    "pprint(str(response))"
   ]
  },
  {
   "cell_type": "code",
   "execution_count": 12,
   "metadata": {},
   "outputs": [
    {
     "name": "stdout",
     "output_type": "stream",
     "text": [
      "Added user message to memory: what is the trend of the political news since last week? how is the sentiment over the week?  \n",
      "=== Calling Function ===\n",
      "Calling function: summary_tool_article_2024-08-18 with args: {\"input\": \"political news\"}\n",
      "=== Function Output ===\n",
      "The political news covers a range of topics including the appointment of a new Prime Minister, the formation of the cabinet, potential changes in key government positions within different political parties, discussions about the allocation of ministerial seats among parties, adjustments in ministerial roles, and speculation about specific individuals who may be appointed to key positions in the government. It also highlights the importance of collaboration within the ruling coalition, responses to rumors and speculations, and the commitment to serving the people.\n",
      "=== Calling Function ===\n",
      "Calling function: summary_tool_article_2024-08-19 with args: {\"input\": \"political news\"}\n",
      "=== Function Output ===\n",
      "The political news covers a range of topics including discussions on party affiliations, potential government involvement, policy changes, government actions, ministerial appointments, ethical conduct, investigations, and the formation of the new cabinet. It also highlights the recent change in Thailand's government leadership, with the appointment of a new Prime Minister, Paetongtarn Shinawatra, sparking discussions about the future of the government and its ability to address economic challenges and public satisfaction.\n",
      "=== Calling Function ===\n",
      "Calling function: summary_tool_article_2024-08-21 with args: {\"input\": \"political news\"}\n",
      "=== Function Output ===\n",
      "The political news discussed in the provided context covers a wide range of topics including government budget allocation, discussions on digital wallet projects, economic stimulus measures, policy adjustments, budget reviews, decision-making processes within the government, involvement of key political figures in shaping economic strategies, considerations for economic policies, passing of referendum laws, formation of new government cabinets, dissolution of political parties, ethical investigations, health ministry announcements, and interactions between political figures and the central bank. The news also includes updates on the formation of the government, party participation, ministerial appointments, and the decision-making processes within political parties. Additionally, there are reports on conflicts, party leadership decisions, ministerial selections, political maneuvers, alliances, and potential candidates for ministerial positions.\n",
      "=== Calling Function ===\n",
      "Calling function: summary_tool_article_2024-08-22 with args: {\"input\": \"political news\"}\n",
      "=== Function Output ===\n",
      "The political news covers a range of topics including discussions on economic strategies, societal policies, internal party issues, disciplinary actions within the military, cabinet formations, parliamentary processes, and constitutional amendments. There are updates on various political figures, government actions, opposition responses, and preparations for upcoming political meetings. Additionally, reports highlight challenges faced by communities due to flooding in different regions and the impact of political decisions on governance.\n",
      "=== Calling Function ===\n",
      "Calling function: summary_tool_article_2024-08-23 with args: {\"input\": \"political news\"}\n",
      "=== Function Output ===\n",
      "The political news covers a wide range of topics including updates on government preparations, statements from political figures, discussions on party appointments, collaborations with other countries for military capabilities, and the formation of the new government. It also includes details on ministerial appointments, party meetings, and the emphasis on unity and transparency within political parties.\n",
      "=== LLM Response ===\n",
      "Over the past week, the political news has covered a wide range of topics, including:\n",
      "\n",
      "1. **Government Formation and Cabinet Appointments**: There has been significant focus on the appointment of a new Prime Minister and the formation of the new cabinet. Discussions have revolved around the allocation of ministerial seats among parties, adjustments in ministerial roles, and speculation about specific individuals who may be appointed to key positions.\n",
      "\n",
      "2. **Policy and Economic Discussions**: Topics such as government budget allocation, economic stimulus measures, digital wallet projects, and policy adjustments have been prominent. There have been discussions on economic strategies, societal policies, and the involvement of key political figures in shaping economic strategies.\n",
      "\n",
      "3. **Party Dynamics and Ethical Conduct**: Internal party issues, disciplinary actions, ethical investigations, and the dissolution of political parties have been highlighted. There have also been updates on party affiliations, leadership decisions, and ministerial selections.\n",
      "\n",
      "4. **Government Actions and Public Response**: The news has covered government actions, opposition responses, and preparations for upcoming political meetings. There have been reports on the impact of political decisions on governance and public satisfaction.\n",
      "\n",
      "5. **International Collaborations and Military Capabilities**: Discussions on collaborations with other countries for military capabilities and statements from political figures have also been part of the news.\n",
      "\n",
      "### Sentiment Over the Week:\n",
      "The sentiment in the political news over the past week appears to be mixed. While there is a sense of progress with the formation of the new government and cabinet appointments, there are also challenges and conflicts within political parties, ethical investigations, and public concerns about economic policies and governance. The emphasis on unity and transparency within political parties suggests a positive outlook, but the ongoing discussions about economic challenges and public satisfaction indicate areas of concern.\n"
     ]
    }
   ],
   "source": [
    "response = agent.query(\n",
    "    \"what is the trend of the political news since last week? how is the sentiment over the week?  \"\n",
    ")"
   ]
  },
  {
   "cell_type": "code",
   "execution_count": 13,
   "metadata": {},
   "outputs": [
    {
     "name": "stdout",
     "output_type": "stream",
     "text": [
      "('Over the past week, the political news has covered a wide range of topics, '\n",
      " 'including:\\n'\n",
      " '\\n'\n",
      " '1. **Government Formation and Cabinet Appointments**: There has been '\n",
      " 'significant focus on the appointment of a new Prime Minister and the '\n",
      " 'formation of the new cabinet. Discussions have revolved around the '\n",
      " 'allocation of ministerial seats among parties, adjustments in ministerial '\n",
      " 'roles, and speculation about specific individuals who may be appointed to '\n",
      " 'key positions.\\n'\n",
      " '\\n'\n",
      " '2. **Policy and Economic Discussions**: Topics such as government budget '\n",
      " 'allocation, economic stimulus measures, digital wallet projects, and policy '\n",
      " 'adjustments have been prominent. There have been discussions on economic '\n",
      " 'strategies, societal policies, and the involvement of key political figures '\n",
      " 'in shaping economic strategies.\\n'\n",
      " '\\n'\n",
      " '3. **Party Dynamics and Ethical Conduct**: Internal party issues, '\n",
      " 'disciplinary actions, ethical investigations, and the dissolution of '\n",
      " 'political parties have been highlighted. There have also been updates on '\n",
      " 'party affiliations, leadership decisions, and ministerial selections.\\n'\n",
      " '\\n'\n",
      " '4. **Government Actions and Public Response**: The news has covered '\n",
      " 'government actions, opposition responses, and preparations for upcoming '\n",
      " 'political meetings. There have been reports on the impact of political '\n",
      " 'decisions on governance and public satisfaction.\\n'\n",
      " '\\n'\n",
      " '5. **International Collaborations and Military Capabilities**: Discussions '\n",
      " 'on collaborations with other countries for military capabilities and '\n",
      " 'statements from political figures have also been part of the news.\\n'\n",
      " '\\n'\n",
      " '### Sentiment Over the Week:\\n'\n",
      " 'The sentiment in the political news over the past week appears to be mixed. '\n",
      " 'While there is a sense of progress with the formation of the new government '\n",
      " 'and cabinet appointments, there are also challenges and conflicts within '\n",
      " 'political parties, ethical investigations, and public concerns about '\n",
      " 'economic policies and governance. The emphasis on unity and transparency '\n",
      " 'within political parties suggests a positive outlook, but the ongoing '\n",
      " 'discussions about economic challenges and public satisfaction indicate areas '\n",
      " 'of concern.')\n"
     ]
    }
   ],
   "source": [
    "pprint(str(response))"
   ]
  },
  {
   "cell_type": "code",
   "execution_count": 39,
   "metadata": {},
   "outputs": [
    {
     "name": "stdout",
     "output_type": "stream",
     "text": [
      "Agent response: I can provide summaries for news articles from the following dates:\n",
      "\n",
      "1. August 18, 2024\n",
      "2. August 19, 2024\n",
      "3. August 20, 2024\n",
      "4. August 21, 2024\n",
      "5. August 22, 2024\n",
      "6. August 23, 2024\n",
      "7. August 24, 2024\n",
      "\n",
      "If you need information or summaries from any of these dates, please let me know!\n",
      "Agent response: Aquí tienes los puntos destacados de las noticias para cada día:\n",
      "\n",
      "- **18 de agosto de 2024**: Anutin Shinawatra expresó su apoyo al nuevo Primer Ministro y destacó la importancia del apoyo continuo. También mencionó que la formación del gabinete es responsabilidad exclusiva del Primer Ministro. Además, se especula sobre posibles cambios en la alineación del gabinete y la asignación de puestos ministeriales entre diferentes partidos políticos.\n",
      "\n",
      "- **19 de agosto de 2024**: Los artículos abarcan una amplia gama de temas, incluyendo patrones de envejecimiento, registros de vehículos, desarrollos políticos y políticas gubernamentales en Tailandia. El gobierno enfrenta escrutinio por sus políticas y acciones, con posibles cambios en el proyecto de la Cartera Digital. La oposición sigue activa en el escrutinio del gobierno, mientras se anticipan cambios en el Ministerio de Finanzas.\n",
      "\n",
      "- **20 de agosto de 2024**: Los artículos proporcionan información sobre varios incidentes de errores arbitrales en partidos de fútbol, destacando la importancia de decisiones precisas por parte de los árbitros para un juego justo. También discuten las repercusiones de tales errores en los equipos y la necesidad continua de mejorar los estándares de arbitraje.\n",
      "\n",
      "- **21 de agosto de 2024**: Las discusiones en los artículos abarcan una variedad de temas, incluyendo posibles cambios en políticas económicas, cambios en el panorama político, consideraciones presupuestarias del gobierno y la formación de nuevas coaliciones gubernamentales en Tailandia. Se enfatiza la importancia de la transparencia en las decisiones gubernamentales y la adherencia a los marcos legales.\n",
      "\n",
      "- **22 de agosto de 2024**: Thaksin presentó su visión para las estrategias económicas de Tailandia y políticas para atraer inversores extranjeros y apoyar el crecimiento del mercado. La película 'Maharaja' recibió comentarios positivos por su calidad y popularidad en Netflix. El gobierno de Singapur bajo Lawrence Wong introdujo nuevas políticas como la extensión del permiso parental y el apoyo a los buscadores de empleo a través de programas como 'SkillsFuture'.\n",
      "\n",
      "- **23 de agosto de 2024**: Los artículos proporcionan información sobre varios aspectos de la política tailandesa y las políticas económicas, enfatizando la importancia de una gobernanza efectiva, estrategias económicas y procesos de toma de decisiones políticas. Las discusiones abarcan temas como las respuestas del gobierno a los desafíos económicos, la dinámica de los partidos políticos y la distribución de carteras digitales.\n",
      "\n",
      "- **24 de agosto de 2024**: Los funcionarios del gobierno están activamente involucrados en proporcionar asistencia y apoyo a los residentes afectados por inundaciones y deslizamientos de tierra, destacando la importancia de la acción inmediata y la coordinación. La popularidad del Primer Ministro y la recepción positiva de sus políticas han infundido confianza en su capacidad para derrotar a los candidatos del Partido del Pueblo. Se están realizando esfuerzos para apoyar y promover las Pequeñas y Medianas Empresas (PYMES) para aumentar su contribución al PIB.\n",
      "Agent response: Desde la semana pasada, las noticias políticas han abarcado una amplia gama de temas y tendencias. Aquí hay un resumen de los principales puntos:\n",
      "\n",
      "1. **Formación y Cambios en el Gobierno**: Se ha discutido mucho sobre la formación del nuevo gobierno, la selección de figuras clave y los posibles cambios en el gabinete. Esto incluye la asignación de posiciones ministeriales entre diferentes partidos políticos y la participación de estos en el gobierno.\n",
      "\n",
      "2. **Políticas y Decisiones Gubernamentales**: Hay un enfoque en las políticas del nuevo gobierno, incluyendo iniciativas como el proyecto de la Cartera Digital y ajustes en el presupuesto. También se han mencionado aspectos legales y éticos en la toma de decisiones políticas.\n",
      "\n",
      "3. **Dinámicas y Conflictos Partidarios**: Las noticias han destacado las dinámicas internas y los conflictos dentro de los partidos políticos, así como las negociaciones y alianzas para formar coaliciones. También se ha hablado de la importancia de la integridad y las cualificaciones de los candidatos a posiciones ministeriales.\n",
      "\n",
      "4. **Impacto Económico y Social**: Se ha discutido cómo las decisiones políticas afectan la economía y la sociedad, incluyendo reformas educativas, proyectos de infraestructura deportiva y respuestas a desastres naturales como inundaciones y deslizamientos de tierra.\n",
      "\n",
      "5. **Estabilidad y Percepción Pública**: Hay preocupaciones sobre la estabilidad del nuevo gobierno y cómo la percepción pública puede influir en su longevidad. También se ha mencionado la importancia de seguir procedimientos legales y mantener la estabilidad política.\n",
      "\n",
      "En resumen, las noticias políticas recientes han estado centradas en la formación del nuevo gobierno, las políticas y decisiones gubernamentales, las dinámicas partidarias, el impacto económico y social, y la estabilidad política.\n",
      "Exiting the query loop.\n"
     ]
    }
   ],
   "source": [
    "from llama_index.core.agent import FunctionCallingAgentWorker\n",
    "from llama_index.core.agent import AgentRunner\n",
    "\n",
    "# Initialize the agent worker and agent runner\n",
    "agent_worker = FunctionCallingAgentWorker.from_tools(\n",
    "    tool_retriever=obj_retriever,\n",
    "    llm=llm, \n",
    "    system_prompt=\"\"\" \\\n",
    "You are an AI agent tasked with answering queries based on a set of provided news articles. \n",
    "Always utilize the tools provided to generate your responses. Answer queries in the same language as the user's input. \n",
    "Avoid relying on prior knowledge or external information not found within the provided tools.\n",
    "\"\"\",\n",
    "    verbose=False\n",
    ")\n",
    "agent = AgentRunner(agent_worker)\n",
    "\n",
    "# Start the loop to continuously ask questions\n",
    "while True:\n",
    "    # Get the user query\n",
    "    user_input = input(\"Ask a question (or type 'exit' to quit): \")\n",
    "    \n",
    "    # Break the loop if the user wants to exit\n",
    "    if user_input.lower() == \"exit\":\n",
    "        print(\"Exiting the query loop.\")\n",
    "        break\n",
    "    \n",
    "    # Get the agent's response\n",
    "    response = agent.query(user_input)\n",
    "    \n",
    "    # Print the response\n",
    "    print(\"Agent response:\", response)\n"
   ]
  },
  {
   "cell_type": "code",
   "execution_count": null,
   "metadata": {},
   "outputs": [],
   "source": []
  }
 ],
 "metadata": {
  "kernelspec": {
   "display_name": "base",
   "language": "python",
   "name": "python3"
  },
  "language_info": {
   "codemirror_mode": {
    "name": "ipython",
    "version": 3
   },
   "file_extension": ".py",
   "mimetype": "text/x-python",
   "name": "python",
   "nbconvert_exporter": "python",
   "pygments_lexer": "ipython3",
   "version": "3.12.4"
  }
 },
 "nbformat": 4,
 "nbformat_minor": 2
}
