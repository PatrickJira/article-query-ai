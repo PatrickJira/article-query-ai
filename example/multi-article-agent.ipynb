{
 "cells": [
  {
   "cell_type": "code",
   "execution_count": 1,
   "metadata": {},
   "outputs": [],
   "source": [
    "import openai\n",
    "import os\n",
    "import nest_asyncio\n",
    "from dotenv import load_dotenv\n",
    "from openai import OpenAI\n",
    "\n",
    "# Load environment variables from .env file\n",
    "load_dotenv()\n",
    "\n",
    "# Allow for nested asyncio event loops\n",
    "nest_asyncio.apply()\n",
    "\n",
    "# Set up OpenAI API client\n",
    "client = OpenAI(api_key=os.getenv('OPENAI_API_KEY'))"
   ]
  },
  {
   "cell_type": "code",
   "execution_count": 2,
   "metadata": {},
   "outputs": [
    {
     "name": "stdout",
     "output_type": "stream",
     "text": [
      "['article_2024-08-18.txt',\n",
      " 'article_2024-08-19.txt',\n",
      " 'article_2024-08-20.txt',\n",
      " 'article_2024-08-21.txt',\n",
      " 'article_2024-08-22.txt',\n",
      " 'article_2024-08-23.txt',\n",
      " 'article_2024-08-24.txt']\n"
     ]
    }
   ],
   "source": [
    "import os\n",
    "from pprint import pprint \n",
    "\n",
    "# Define the directory to read\n",
    "directory = r'D:\\github-repo-tkhongsap\\editor-in-chief\\docs'\n",
    "\n",
    "# List to store the file names\n",
    "articles = []\n",
    "\n",
    "# Iterate through the directory and collect .txt files\n",
    "for filename in os.listdir(directory):\n",
    "    if filename.endswith('.txt'):\n",
    "        articles.append(filename)\n",
    "\n",
    "# Sort the list to ensure the dates are in order (optional)\n",
    "articles.sort()\n",
    "\n",
    "pprint(articles)\n"
   ]
  },
  {
   "cell_type": "code",
   "execution_count": 5,
   "metadata": {},
   "outputs": [
    {
     "name": "stdout",
     "output_type": "stream",
     "text": [
      "Getting tools for article: D:\\github-repo-tkhongsap\\editor-in-chief\\docs\\article_2024-08-18.txt\n",
      "Getting tools for article: D:\\github-repo-tkhongsap\\editor-in-chief\\docs\\article_2024-08-19.txt\n",
      "Getting tools for article: D:\\github-repo-tkhongsap\\editor-in-chief\\docs\\article_2024-08-20.txt\n",
      "Getting tools for article: D:\\github-repo-tkhongsap\\editor-in-chief\\docs\\article_2024-08-21.txt\n",
      "Getting tools for article: D:\\github-repo-tkhongsap\\editor-in-chief\\docs\\article_2024-08-22.txt\n",
      "Getting tools for article: D:\\github-repo-tkhongsap\\editor-in-chief\\docs\\article_2024-08-23.txt\n",
      "Getting tools for article: D:\\github-repo-tkhongsap\\editor-in-chief\\docs\\article_2024-08-24.txt\n"
     ]
    }
   ],
   "source": [
    "from utils.get_doc_tools import get_doc_tools\n",
    "from pathlib import Path\n",
    "\n",
    "# Define the directory containing the documents\n",
    "docs_directory = Path(r\"D:\\github-repo-tkhongsap\\editor-in-chief\\docs\")\n",
    "\n",
    "# List all files in the directory (assuming articles is a list of filenames)\n",
    "articles = [file for file in docs_directory.iterdir() if file.is_file()]\n",
    "\n",
    "paper_to_tools_dict = {}\n",
    "\n",
    "for article in articles:\n",
    "    print(f\"Getting tools for article: {article}\")\n",
    "    \n",
    "    # Pass the full file path to get_doc_tools\n",
    "    vector_query_tool, summary_tool = get_doc_tools(str(article), article.stem)\n",
    "    paper_to_tools_dict[article] = [vector_query_tool, summary_tool]\n"
   ]
  },
  {
   "cell_type": "code",
   "execution_count": 6,
   "metadata": {},
   "outputs": [
    {
     "data": {
      "text/plain": [
       "14"
      ]
     },
     "execution_count": 6,
     "metadata": {},
     "output_type": "execute_result"
    }
   ],
   "source": [
    "from llama_index.llms.openai import OpenAI\n",
    "from llama_index.embeddings.openai import OpenAIEmbedding\n",
    "\n",
    "# Initialize the LLM with model name, temperature, and max tokens\n",
    "llm = OpenAI(model=\"gpt-4o\")\n",
    "\n",
    "embed_model = OpenAIEmbedding(model=\"text-embedding-3-large\")\n",
    "\n",
    "# Define the directory containing the documents\n",
    "all_tools = [t for article in articles for t in paper_to_tools_dict[article]]\n",
    "len(all_tools)"
   ]
  },
  {
   "cell_type": "code",
   "execution_count": 7,
   "metadata": {},
   "outputs": [],
   "source": [
    "# define an \"object\" index and retriever over these tools\n",
    "# we will performm index on the tools and retrieve relevant tools first. \n",
    "from llama_index.core import VectorStoreIndex\n",
    "from llama_index.core.objects import ObjectIndex\n",
    "\n",
    "obj_index = ObjectIndex.from_objects(\n",
    "    all_tools,\n",
    "    index_cls=VectorStoreIndex,\n",
    ")"
   ]
  },
  {
   "cell_type": "code",
   "execution_count": 8,
   "metadata": {},
   "outputs": [],
   "source": [
    "obj_retriever = obj_index.as_retriever(similarity_top_k=7)"
   ]
  },
  {
   "cell_type": "code",
   "execution_count": 10,
   "metadata": {},
   "outputs": [
    {
     "name": "stdout",
     "output_type": "stream",
     "text": [
      "ToolMetadata(description='Use ONLY IF you want to get a holistic summary of '\n",
      "                         'the document. Do NOT use if you have specific '\n",
      "                         'questions over the document.',\n",
      "             name='summary_tool_article_2024-08-20',\n",
      "             fn_schema=<class 'llama_index.core.tools.types.DefaultToolFnSchema'>,\n",
      "             return_direct=False)\n"
     ]
    }
   ],
   "source": [
    "tools = obj_retriever.retrieve(\n",
    "    \"Any thing related to politics?\"\n",
    ")\n",
    "\n",
    "from pprint import pprint\n",
    "\n",
    "ans = tools[4].metadata\n",
    "pprint(ans)"
   ]
  },
  {
   "cell_type": "code",
   "execution_count": 11,
   "metadata": {},
   "outputs": [],
   "source": [
    "from llama_index.core.agent import FunctionCallingAgentWorker\n",
    "from llama_index.core.agent import AgentRunner\n",
    "\n",
    "agent_worker = FunctionCallingAgentWorker.from_tools(\n",
    "    tool_retriever=obj_retriever,\n",
    "    llm=llm, \n",
    "    system_prompt=\"\"\" \\\n",
    "You are an AI agent tasked with answering queries based on a set of provided news articles. \n",
    "Always utilize the tools provided to generate your responses. Answer queries in the same language as the user's input. \n",
    "Avoid relying on prior knowledge or external information not found within the provided tools.\\\n",
    "\n",
    "\"\"\",\n",
    "    verbose=True\n",
    ")\n",
    "agent = AgentRunner(agent_worker)"
   ]
  },
  {
   "cell_type": "code",
   "execution_count": 12,
   "metadata": {},
   "outputs": [
    {
     "name": "stdout",
     "output_type": "stream",
     "text": [
      "Added user message to memory: Tell me about the news on 24th of August? Any thing related to politics?\n",
      "=== Calling Function ===\n",
      "Calling function: summary_tool_article_2024-08-24 with args: {\"input\": \"general\"}\n",
      "=== Function Output ===\n",
      "The information provided covers a range of topics including government responses to natural disasters, support for small and medium enterprises (SMEs), initiatives in various industries like telecommunications and tourism, digital asset security, and challenges faced by companies like 7-Eleven in Japan. The content emphasizes the importance of community well-being, economic growth, business collaborations, and the need for companies to adapt to changing dynamics to remain competitive in the global market.\n",
      "=== Calling Function ===\n",
      "Calling function: summary_tool_article_2024-08-24 with args: {\"input\": \"politics\"}\n",
      "=== Function Output ===\n",
      "The information provided does not contain any details related to politics.\n",
      "=== LLM Response ===\n",
      "On the 24th of August, the news covered various topics including government responses to natural disasters, support for small and medium enterprises (SMEs), initiatives in industries like telecommunications and tourism, digital asset security, and challenges faced by companies like 7-Eleven in Japan. The focus was on community well-being, economic growth, business collaborations, and the need for companies to adapt to changing dynamics to stay competitive in the global market.\n",
      "\n",
      "However, there were no specific details related to politics on that day.\n",
      "('On the 24th of August, the news covered various topics including government '\n",
      " 'responses to natural disasters, support for small and medium enterprises '\n",
      " '(SMEs), initiatives in industries like telecommunications and tourism, '\n",
      " 'digital asset security, and challenges faced by companies like 7-Eleven in '\n",
      " 'Japan. The focus was on community well-being, economic growth, business '\n",
      " 'collaborations, and the need for companies to adapt to changing dynamics to '\n",
      " 'stay competitive in the global market.\\n'\n",
      " '\\n'\n",
      " 'However, there were no specific details related to politics on that day.')\n"
     ]
    }
   ],
   "source": [
    "response = agent.query(\n",
    "    \"Tell me about the news on 24th of August? Any thing related to politics?\"\n",
    ")\n",
    "\n",
    "print(str(response))"
   ]
  },
  {
   "cell_type": "code",
   "execution_count": 13,
   "metadata": {},
   "outputs": [
    {
     "name": "stdout",
     "output_type": "stream",
     "text": [
      "Added user message to memory: what is the trend of the political news since last week? how is the sentiment over the week?  \n",
      "=== Calling Function ===\n",
      "Calling function: summary_tool_article_2024-08-18 with args: {\"input\": \"political news\"}\n",
      "=== Function Output ===\n",
      "The political news covers recent developments such as the appointment of a new Prime Minister, the formation of the new cabinet, potential changes in ministerial positions within different political parties, discussions on the allocation of ministerial seats among various parties, and speculation about personnel changes within the government. There are also reports on the legality of party branch formations, the impact on the upcoming election of the Prime Minister, and the importance of adhering to legal processes in decision-making. Additionally, there are discussions on the roles of individuals in the government, the continuity of policies, and the need for collaboration within the ruling coalition.\n",
      "=== Calling Function ===\n",
      "Calling function: summary_tool_article_2024-08-19 with args: {\"input\": \"political news\"}\n",
      "=== Function Output ===\n",
      "The political news covers a range of topics including updates on party involvement in the government, discussions on ministerial appointments, ethical concerns, legal proceedings involving political figures, and the challenges faced by the new administration. There are reports on the formation of the cabinet, coordination between political parties, and the decision-making processes within political parties regarding key government positions. Additionally, there is mention of the need for clear policy statements, concerns about ethical standards, and the potential impact of changes in government leadership on the political landscape in Thailand.\n",
      "=== Calling Function ===\n",
      "Calling function: summary_tool_article_2024-08-20 with args: {\"input\": \"political news\"}\n",
      "=== Function Output ===\n",
      "The political news includes updates on various political figures, discussions about government formations, ministerial appointments, party alliances, and interactions between different political entities. There are reports on statements made by political leaders regarding economic policies, technology development, and urgent economic issues. Additionally, the news covers internal dynamics within political parties, decisions on government participation, and the scrutiny of ministerial qualifications.\n",
      "=== Calling Function ===\n",
      "Calling function: summary_tool_article_2024-08-21 with args: {\"input\": \"political news\"}\n",
      "=== Function Output ===\n",
      "The political news discussed in the provided context includes updates on government budget allocation, policy changes, economic stimulus projects, adjustments in project details, digital wallet initiatives, involvement of key political figures in decision-making processes, budget approvals, financial distributions, passing of referendum law amendments, discussions on forming the government, potential ministerial appointments, party collaborations, disciplinary actions within political parties, and the overall political landscape in the country.\n",
      "=== Calling Function ===\n",
      "Calling function: summary_tool_article_2024-08-22 with args: {\"input\": \"political news\"}\n",
      "=== Function Output ===\n",
      "The political news covers a wide range of topics including discussions on the vision for Thailand in 2024, government officials addressing flooding issues, policy announcements in Singapore focusing on societal issues and support programs, plans for residential areas and educational institutions, internal conflicts within political parties, developments in the Thai political landscape, investigations into disciplinary actions within the military, proposals for constitutional amendments, updates on the formation of new cabinets, urgent motions in the constitutional court, and preparations for selecting candidates for key political positions.\n",
      "=== Calling Function ===\n",
      "Calling function: summary_tool_article_2024-08-23 with args: {\"input\": \"political news\"}\n",
      "=== Function Output ===\n",
      "The political news covers a wide range of topics including updates on economic policies, government initiatives, safety concerns at the Thai Parliament, political figures' activities, party decisions on ministerial positions, government formation processes, and international collaborations for defense capabilities. It also includes discussions on unity among political parties, transparency in political processes, and the importance of adherence to legal procedures. The news reflects a dynamic political landscape with ongoing negotiations, discussions on ministerial appointments, and the submission of names for key positions within the government.\n",
      "=== Calling Function ===\n",
      "Calling function: summary_tool_article_2024-08-24 with args: {\"input\": \"political news\"}\n",
      "=== Function Output ===\n",
      "The news articles provided do not contain information related to political news.\n",
      "=== LLM Response ===\n",
      "### Trend of Political News (Last Week)\n",
      "\n",
      "1. **August 18, 2024**:\n",
      "   - Appointment of a new Prime Minister.\n",
      "   - Formation of the new cabinet.\n",
      "   - Discussions on ministerial positions and allocation among parties.\n",
      "   - Speculation about personnel changes within the government.\n",
      "   - Legal processes in decision-making and party branch formations.\n",
      "\n",
      "2. **August 19, 2024**:\n",
      "   - Updates on party involvement in the government.\n",
      "   - Ministerial appointments and ethical concerns.\n",
      "   - Legal proceedings involving political figures.\n",
      "   - Challenges faced by the new administration.\n",
      "   - Coordination between political parties and decision-making processes.\n",
      "\n",
      "3. **August 20, 2024**:\n",
      "   - Updates on political figures and government formations.\n",
      "   - Discussions about ministerial appointments and party alliances.\n",
      "   - Statements by political leaders on economic policies and technology development.\n",
      "   - Internal dynamics within political parties.\n",
      "\n",
      "4. **August 21, 2024**:\n",
      "   - Government budget allocation and policy changes.\n",
      "   - Economic stimulus projects and digital wallet initiatives.\n",
      "   - Involvement of key political figures in decision-making.\n",
      "   - Budget approvals and financial distributions.\n",
      "   - Discussions on forming the government and potential ministerial appointments.\n",
      "\n",
      "5. **August 22, 2024**:\n",
      "   - Vision for Thailand in 2024.\n",
      "   - Government officials addressing flooding issues.\n",
      "   - Policy announcements in Singapore.\n",
      "   - Internal conflicts within political parties.\n",
      "   - Developments in the Thai political landscape and constitutional amendments.\n",
      "\n",
      "6. **August 23, 2024**:\n",
      "   - Updates on economic policies and government initiatives.\n",
      "   - Safety concerns at the Thai Parliament.\n",
      "   - Political figures' activities and party decisions on ministerial positions.\n",
      "   - Government formation processes and international collaborations for defense capabilities.\n",
      "   - Discussions on unity among political parties and transparency in political processes.\n",
      "\n",
      "7. **August 24, 2024**:\n",
      "   - No political news reported.\n",
      "\n",
      "### Sentiment Over the Week\n",
      "\n",
      "The sentiment in political news over the past week appears to be mixed:\n",
      "\n",
      "- **Positive Sentiment**:\n",
      "  - Formation of a new government and cabinet.\n",
      "  - Discussions on economic policies and technology development.\n",
      "  - International collaborations for defense capabilities.\n",
      "\n",
      "- **Neutral Sentiment**:\n",
      "  - Updates on ministerial appointments and party alliances.\n",
      "  - Government budget allocation and policy changes.\n",
      "  - Coordination between political parties.\n",
      "\n",
      "- **Negative Sentiment**:\n",
      "  - Ethical concerns and legal proceedings involving political figures.\n",
      "  - Internal conflicts within political parties.\n",
      "  - Safety concerns at the Thai Parliament.\n",
      "\n",
      "Overall, the political landscape is dynamic with ongoing negotiations, decision-making processes, and discussions on various policy and governance issues.\n"
     ]
    }
   ],
   "source": [
    "response = agent.query(\n",
    "    \"what is the trend of the political news since last week? how is the sentiment over the week?  \"\n",
    ")"
   ]
  },
  {
   "cell_type": "code",
   "execution_count": 15,
   "metadata": {},
   "outputs": [
    {
     "name": "stdout",
     "output_type": "stream",
     "text": [
      "<class 'llama_index.core.base.response.schema.Response'>\n"
     ]
    }
   ],
   "source": [
    "print(type(response))"
   ]
  },
  {
   "cell_type": "code",
   "execution_count": 13,
   "metadata": {},
   "outputs": [
    {
     "name": "stdout",
     "output_type": "stream",
     "text": [
      "('Over the past week, the political news has covered a wide range of topics, '\n",
      " 'including:\\n'\n",
      " '\\n'\n",
      " '1. **Government Formation and Cabinet Appointments**: There has been '\n",
      " 'significant focus on the appointment of a new Prime Minister and the '\n",
      " 'formation of the new cabinet. Discussions have revolved around the '\n",
      " 'allocation of ministerial seats among parties, adjustments in ministerial '\n",
      " 'roles, and speculation about specific individuals who may be appointed to '\n",
      " 'key positions.\\n'\n",
      " '\\n'\n",
      " '2. **Policy and Economic Discussions**: Topics such as government budget '\n",
      " 'allocation, economic stimulus measures, digital wallet projects, and policy '\n",
      " 'adjustments have been prominent. There have been discussions on economic '\n",
      " 'strategies, societal policies, and the involvement of key political figures '\n",
      " 'in shaping economic strategies.\\n'\n",
      " '\\n'\n",
      " '3. **Party Dynamics and Ethical Conduct**: Internal party issues, '\n",
      " 'disciplinary actions, ethical investigations, and the dissolution of '\n",
      " 'political parties have been highlighted. There have also been updates on '\n",
      " 'party affiliations, leadership decisions, and ministerial selections.\\n'\n",
      " '\\n'\n",
      " '4. **Government Actions and Public Response**: The news has covered '\n",
      " 'government actions, opposition responses, and preparations for upcoming '\n",
      " 'political meetings. There have been reports on the impact of political '\n",
      " 'decisions on governance and public satisfaction.\\n'\n",
      " '\\n'\n",
      " '5. **International Collaborations and Military Capabilities**: Discussions '\n",
      " 'on collaborations with other countries for military capabilities and '\n",
      " 'statements from political figures have also been part of the news.\\n'\n",
      " '\\n'\n",
      " '### Sentiment Over the Week:\\n'\n",
      " 'The sentiment in the political news over the past week appears to be mixed. '\n",
      " 'While there is a sense of progress with the formation of the new government '\n",
      " 'and cabinet appointments, there are also challenges and conflicts within '\n",
      " 'political parties, ethical investigations, and public concerns about '\n",
      " 'economic policies and governance. The emphasis on unity and transparency '\n",
      " 'within political parties suggests a positive outlook, but the ongoing '\n",
      " 'discussions about economic challenges and public satisfaction indicate areas '\n",
      " 'of concern.')\n"
     ]
    }
   ],
   "source": [
    "pprint(str(response))"
   ]
  },
  {
   "cell_type": "code",
   "execution_count": 39,
   "metadata": {},
   "outputs": [
    {
     "name": "stdout",
     "output_type": "stream",
     "text": [
      "Agent response: I can provide summaries for news articles from the following dates:\n",
      "\n",
      "1. August 18, 2024\n",
      "2. August 19, 2024\n",
      "3. August 20, 2024\n",
      "4. August 21, 2024\n",
      "5. August 22, 2024\n",
      "6. August 23, 2024\n",
      "7. August 24, 2024\n",
      "\n",
      "If you need information or summaries from any of these dates, please let me know!\n",
      "Agent response: Aquí tienes los puntos destacados de las noticias para cada día:\n",
      "\n",
      "- **18 de agosto de 2024**: Anutin Shinawatra expresó su apoyo al nuevo Primer Ministro y destacó la importancia del apoyo continuo. También mencionó que la formación del gabinete es responsabilidad exclusiva del Primer Ministro. Además, se especula sobre posibles cambios en la alineación del gabinete y la asignación de puestos ministeriales entre diferentes partidos políticos.\n",
      "\n",
      "- **19 de agosto de 2024**: Los artículos abarcan una amplia gama de temas, incluyendo patrones de envejecimiento, registros de vehículos, desarrollos políticos y políticas gubernamentales en Tailandia. El gobierno enfrenta escrutinio por sus políticas y acciones, con posibles cambios en el proyecto de la Cartera Digital. La oposición sigue activa en el escrutinio del gobierno, mientras se anticipan cambios en el Ministerio de Finanzas.\n",
      "\n",
      "- **20 de agosto de 2024**: Los artículos proporcionan información sobre varios incidentes de errores arbitrales en partidos de fútbol, destacando la importancia de decisiones precisas por parte de los árbitros para un juego justo. También discuten las repercusiones de tales errores en los equipos y la necesidad continua de mejorar los estándares de arbitraje.\n",
      "\n",
      "- **21 de agosto de 2024**: Las discusiones en los artículos abarcan una variedad de temas, incluyendo posibles cambios en políticas económicas, cambios en el panorama político, consideraciones presupuestarias del gobierno y la formación de nuevas coaliciones gubernamentales en Tailandia. Se enfatiza la importancia de la transparencia en las decisiones gubernamentales y la adherencia a los marcos legales.\n",
      "\n",
      "- **22 de agosto de 2024**: Thaksin presentó su visión para las estrategias económicas de Tailandia y políticas para atraer inversores extranjeros y apoyar el crecimiento del mercado. La película 'Maharaja' recibió comentarios positivos por su calidad y popularidad en Netflix. El gobierno de Singapur bajo Lawrence Wong introdujo nuevas políticas como la extensión del permiso parental y el apoyo a los buscadores de empleo a través de programas como 'SkillsFuture'.\n",
      "\n",
      "- **23 de agosto de 2024**: Los artículos proporcionan información sobre varios aspectos de la política tailandesa y las políticas económicas, enfatizando la importancia de una gobernanza efectiva, estrategias económicas y procesos de toma de decisiones políticas. Las discusiones abarcan temas como las respuestas del gobierno a los desafíos económicos, la dinámica de los partidos políticos y la distribución de carteras digitales.\n",
      "\n",
      "- **24 de agosto de 2024**: Los funcionarios del gobierno están activamente involucrados en proporcionar asistencia y apoyo a los residentes afectados por inundaciones y deslizamientos de tierra, destacando la importancia de la acción inmediata y la coordinación. La popularidad del Primer Ministro y la recepción positiva de sus políticas han infundido confianza en su capacidad para derrotar a los candidatos del Partido del Pueblo. Se están realizando esfuerzos para apoyar y promover las Pequeñas y Medianas Empresas (PYMES) para aumentar su contribución al PIB.\n",
      "Agent response: Desde la semana pasada, las noticias políticas han abarcado una amplia gama de temas y tendencias. Aquí hay un resumen de los principales puntos:\n",
      "\n",
      "1. **Formación y Cambios en el Gobierno**: Se ha discutido mucho sobre la formación del nuevo gobierno, la selección de figuras clave y los posibles cambios en el gabinete. Esto incluye la asignación de posiciones ministeriales entre diferentes partidos políticos y la participación de estos en el gobierno.\n",
      "\n",
      "2. **Políticas y Decisiones Gubernamentales**: Hay un enfoque en las políticas del nuevo gobierno, incluyendo iniciativas como el proyecto de la Cartera Digital y ajustes en el presupuesto. También se han mencionado aspectos legales y éticos en la toma de decisiones políticas.\n",
      "\n",
      "3. **Dinámicas y Conflictos Partidarios**: Las noticias han destacado las dinámicas internas y los conflictos dentro de los partidos políticos, así como las negociaciones y alianzas para formar coaliciones. También se ha hablado de la importancia de la integridad y las cualificaciones de los candidatos a posiciones ministeriales.\n",
      "\n",
      "4. **Impacto Económico y Social**: Se ha discutido cómo las decisiones políticas afectan la economía y la sociedad, incluyendo reformas educativas, proyectos de infraestructura deportiva y respuestas a desastres naturales como inundaciones y deslizamientos de tierra.\n",
      "\n",
      "5. **Estabilidad y Percepción Pública**: Hay preocupaciones sobre la estabilidad del nuevo gobierno y cómo la percepción pública puede influir en su longevidad. También se ha mencionado la importancia de seguir procedimientos legales y mantener la estabilidad política.\n",
      "\n",
      "En resumen, las noticias políticas recientes han estado centradas en la formación del nuevo gobierno, las políticas y decisiones gubernamentales, las dinámicas partidarias, el impacto económico y social, y la estabilidad política.\n",
      "Exiting the query loop.\n"
     ]
    }
   ],
   "source": [
    "from llama_index.core.agent import FunctionCallingAgentWorker\n",
    "from llama_index.core.agent import AgentRunner\n",
    "\n",
    "# Initialize the agent worker and agent runner\n",
    "agent_worker = FunctionCallingAgentWorker.from_tools(\n",
    "    tool_retriever=obj_retriever,\n",
    "    llm=llm, \n",
    "    system_prompt=\"\"\" \\\n",
    "You are an AI agent tasked with answering queries based on a set of provided news articles. \n",
    "Always utilize the tools provided to generate your responses. Answer queries in the same language as the user's input. \n",
    "Avoid relying on prior knowledge or external information not found within the provided tools.\n",
    "\"\"\",\n",
    "    verbose=False\n",
    ")\n",
    "agent = AgentRunner(agent_worker)\n",
    "\n",
    "# Start the loop to continuously ask questions\n",
    "while True:\n",
    "    # Get the user query\n",
    "    user_input = input(\"Ask a question (or type 'exit' to quit): \")\n",
    "    \n",
    "    # Break the loop if the user wants to exit\n",
    "    if user_input.lower() == \"exit\":\n",
    "        print(\"Exiting the query loop.\")\n",
    "        break\n",
    "    \n",
    "    # Get the agent's response\n",
    "    response = agent.query(user_input)\n",
    "    \n",
    "    # Print the response\n",
    "    print(\"Agent response:\", response)\n"
   ]
  },
  {
   "cell_type": "code",
   "execution_count": null,
   "metadata": {},
   "outputs": [],
   "source": []
  }
 ],
 "metadata": {
  "kernelspec": {
   "display_name": "base",
   "language": "python",
   "name": "python3"
  },
  "language_info": {
   "codemirror_mode": {
    "name": "ipython",
    "version": 3
   },
   "file_extension": ".py",
   "mimetype": "text/x-python",
   "name": "python",
   "nbconvert_exporter": "python",
   "pygments_lexer": "ipython3",
   "version": "3.12.4"
  }
 },
 "nbformat": 4,
 "nbformat_minor": 2
}
