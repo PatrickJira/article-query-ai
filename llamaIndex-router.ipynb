{
 "cells": [
  {
   "cell_type": "markdown",
   "id": "85dc27b2-3754-4bae-9d57-1f7e9ace6c81",
   "metadata": {},
   "source": [
    "#### 1. Setup"
   ]
  },
  {
   "cell_type": "code",
   "execution_count": 3,
   "id": "88a94551-496e-4a62-94e6-d4b7e806046f",
   "metadata": {
    "tags": []
   },
   "outputs": [],
   "source": [
    "import openai\n",
    "import os\n",
    "import nest_asyncio\n",
    "\n",
    "from dotenv import load_dotenv\n",
    "from openai import OpenAI\n",
    "\n",
    "# Load environment variables from .env file\n",
    "load_dotenv()\n",
    "\n",
    "# Allow for nested asyncio event loops\n",
    "nest_asyncio.apply()\n",
    "\n",
    "# Set up OpenAI API client\n",
    "client = OpenAI(api_key=os.getenv('OPENAI_API_KEY'))"
   ]
  },
  {
   "cell_type": "markdown",
   "id": "e8f37617-7449-4b3e-bfd0-c9bc3fe5d1d2",
   "metadata": {},
   "source": [
    "#### 2. Load Data"
   ]
  },
  {
   "cell_type": "code",
   "execution_count": 4,
   "id": "a591eb80",
   "metadata": {},
   "outputs": [
    {
     "name": "stdout",
     "output_type": "stream",
     "text": [
      "Files to be loaded: ['d:\\\\github-repo-tkhongsap\\\\editor-in-chief\\\\docs\\\\articles_part_00']\n",
      "Successfully loaded 1 document(s).\n",
      "First document content preview:\n",
      "Doc ID: 5c0b711f-313e-45a7-b83d-1040edf72459\n",
      "Text: id: 19050  attributes:      title: นโยบายเศรษฐกิจ ของพ่อนายกฯ\n",
      "slug: politics-thaksin-shows-vision-economic-business      createdAt:\n",
      "2024-08-23T11:11:39.120Z      updatedAt: 2024-08-23T11:12:58.030Z\n",
      "publishedAt: 2024-08-23T11:11:41.837Z      locale: th      excerpt:\n",
      "Deep SPACE – ไม่เชื่อ ก็ต้องเชื่อ\n",
      "กับความเก๋าเกมทั้งด้านการเมืองและเศรษ...\n"
     ]
    }
   ],
   "source": [
    "import os\n",
    "from llama_index.core import SimpleDirectoryReader\n",
    "\n",
    "# Define the base directory for documents relative to the root directory\n",
    "base_dir = os.path.join(os.getcwd(), 'docs')\n",
    "\n",
    "# List all files in the base directory\n",
    "input_files = [os.path.join(base_dir, f) for f in os.listdir(base_dir) if os.path.isfile(os.path.join(base_dir, f))]\n",
    "\n",
    "# Print the list of input files\n",
    "print(f\"Files to be loaded: {input_files}\")\n",
    "\n",
    "try:\n",
    "    # Load documents from all files in the directory\n",
    "    documents = SimpleDirectoryReader(input_files=input_files).load_data()\n",
    "    \n",
    "    # Check if documents are loaded\n",
    "    if documents:\n",
    "        print(f\"Successfully loaded {len(documents)} document(s).\")\n",
    "        # Optionally, inspect the content of the first document\n",
    "        print(\"First document content preview:\")\n",
    "        print(documents[0] if len(documents) > 0 else \"No documents found.\")\n",
    "    else:\n",
    "        print(\"No documents were loaded.\")\n",
    "except Exception as e:\n",
    "    print(f\"An error occurred while loading documents: {e}\")\n"
   ]
  },
  {
   "cell_type": "markdown",
   "id": "bd74f460-6df9-49ee-8b15-1edf9012089b",
   "metadata": {},
   "source": [
    "#### 3. Define LLM and Embedding model"
   ]
  },
  {
   "cell_type": "code",
   "execution_count": 5,
   "id": "296021d3-20e9-4161-abc5-de2ed5292e64",
   "metadata": {
    "tags": []
   },
   "outputs": [],
   "source": [
    "from llama_index.core.node_parser import SentenceSplitter\n",
    "\n",
    "splitter = SentenceSplitter(chunk_size=1024)\n",
    "nodes = splitter.get_nodes_from_documents(documents)"
   ]
  },
  {
   "cell_type": "code",
   "execution_count": 6,
   "id": "bb7ed04e-ffc9-434b-821f-97e9a37e3fd0",
   "metadata": {
    "tags": []
   },
   "outputs": [],
   "source": [
    "from llama_index.core import Settings\n",
    "from llama_index.llms.openai import OpenAI\n",
    "from llama_index.embeddings.openai import OpenAIEmbedding\n",
    "\n",
    "Settings.llm = OpenAI(model=\"gpt-4o\")\n",
    "Settings.embed_model = OpenAIEmbedding(model=\"text-embedding-3-large\")"
   ]
  },
  {
   "cell_type": "markdown",
   "id": "9ca50087-b696-40d6-ac24-5fd68dfb3bb5",
   "metadata": {},
   "source": [
    "#### 4. Define Summary Index and Vector Index over the Same Data"
   ]
  },
  {
   "cell_type": "code",
   "execution_count": 7,
   "id": "c34aa98a-f153-44fd-b894-3db1eb35b399",
   "metadata": {
    "tags": []
   },
   "outputs": [],
   "source": [
    "from llama_index.core import SummaryIndex, VectorStoreIndex\n",
    "\n",
    "summary_index = SummaryIndex(nodes)\n",
    "vector_index = VectorStoreIndex(nodes)"
   ]
  },
  {
   "cell_type": "markdown",
   "id": "6bb29a04-82a8-4598-877e-6134799ab98f",
   "metadata": {},
   "source": [
    "#### 5. Define Query Engines and Set Metadata"
   ]
  },
  {
   "cell_type": "code",
   "execution_count": 8,
   "id": "2cfec4b1-7610-43f3-a05d-ddfdf69dde65",
   "metadata": {
    "tags": []
   },
   "outputs": [],
   "source": [
    "summary_query_engine = summary_index.as_query_engine(\n",
    "    response_mode=\"tree_summarize\",\n",
    "    use_async=True,\n",
    ")\n",
    "vector_query_engine = vector_index.as_query_engine()"
   ]
  },
  {
   "cell_type": "code",
   "execution_count": 9,
   "id": "04f88418-7711-4a3f-a0c4-8ee361c5bc34",
   "metadata": {
    "tags": []
   },
   "outputs": [],
   "source": [
    "from llama_index.core.tools import QueryEngineTool\n",
    "\n",
    "summary_tool = QueryEngineTool.from_defaults(\n",
    "    query_engine=summary_query_engine,\n",
    "    description=(\n",
    "        \"Useful for summarization questions \"\n",
    "    ),\n",
    ")\n",
    "\n",
    "vector_tool = QueryEngineTool.from_defaults(\n",
    "    query_engine=vector_query_engine,\n",
    "    description=(\n",
    "        \"Useful for retrieving specific context\"\n",
    "    ),\n",
    ")"
   ]
  },
  {
   "cell_type": "markdown",
   "id": "94734232-a89e-4162-a1e9-4454b2fc2538",
   "metadata": {},
   "source": [
    "#### 6. Define Router Query Engine"
   ]
  },
  {
   "cell_type": "code",
   "execution_count": 12,
   "id": "45361581-a765-43d9-8178-a2a599808059",
   "metadata": {
    "tags": []
   },
   "outputs": [],
   "source": [
    "from llama_index.core.query_engine.router_query_engine import RouterQueryEngine\n",
    "from llama_index.core.selectors import LLMSingleSelector\n",
    "\n",
    "\n",
    "query_engine = RouterQueryEngine(\n",
    "    selector=LLMSingleSelector.from_defaults(),\n",
    "    query_engine_tools=[\n",
    "        summary_tool,\n",
    "        vector_tool,\n",
    "    ],\n",
    "    verbose=True\n",
    ")"
   ]
  },
  {
   "cell_type": "code",
   "execution_count": 13,
   "id": "d36ca6f7-6ec5-41fe-8fa0-b49aeb0d6ede",
   "metadata": {
    "tags": []
   },
   "outputs": [
    {
     "name": "stdout",
     "output_type": "stream",
     "text": [
      "### Response:\n",
      "The document is a compilation of various articles and reports covering a wide range of topics. These include political news, economic policies, natural disasters, business discussions, international collaborations, lifestyle and travel features, cultural content reviews, and social events. Specific subjects mentioned are economic visions and policies, natural disaster impacts, business challenges, political dynamics, cyber security, and environmental conservation. Additionally, it includes updates on government actions, legal issues, and significant political figures.\n",
      "\n"
     ]
    }
   ],
   "source": [
    "\n",
    "# Start a while loop to continuously get user input and query the engine\n",
    "while True:\n",
    "    user_input = input(\"Enter your query (or type 'exit' to quit): \")\n",
    "    \n",
    "    # Exit the loop if the user types 'exit'\n",
    "    if user_input.lower() == 'exit':\n",
    "        break\n",
    "    \n",
    "    # Perform the query\n",
    "    response = query_engine.query(user_input)\n",
    "    \n",
    "    # Print the response in markdown format\n",
    "    print(f\"### Response:\\n{str(response)}\\n\")\n"
   ]
  },
  {
   "cell_type": "code",
   "execution_count": null,
   "id": "b00f5356",
   "metadata": {},
   "outputs": [],
   "source": []
  }
 ],
 "metadata": {
  "kernelspec": {
   "display_name": "Python 3 (ipykernel)",
   "language": "python",
   "name": "python3"
  },
  "language_info": {
   "codemirror_mode": {
    "name": "ipython",
    "version": 3
   },
   "file_extension": ".py",
   "mimetype": "text/x-python",
   "name": "python",
   "nbconvert_exporter": "python",
   "pygments_lexer": "ipython3",
   "version": "3.11.7"
  }
 },
 "nbformat": 4,
 "nbformat_minor": 5
}
